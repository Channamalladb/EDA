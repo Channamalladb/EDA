import pandas as pd
import seaborn as sns
import matplotlib.pyplot as plt

df = pd.read_csv('tested.csv')

df.head()

# Checking for missing values in the dataset
missing_values = df.isnull().sum()
missing_values = missing_values[missing_values > 0]

# Displaying missing values
missing_values

# Visualizing missing values using a heatmap
plt.figure(figsize=(10, 6))
sns.heatmap(df.isnull(), cbar=False, cmap='viridis')
plt.title('Missing Values Heatmap')
plt.show()
print("Missing values in the dataset:")
print(missing_values)

# Plotting histograms for Age
plt.figure(figsize=(12, 5))
plt.subplot(1, 2, 1)
sns.histplot(df['Age'].dropna(), bins=30, kde=True)
plt.title('Age Distribution')
plt.xlabel('Age')
plt.ylabel('Frequency')
print("Age distribution histogram plotted.")

# Plotting histograms for Fare
plt.subplot(1, 2, 2)
sns.histplot(df['Fare'].dropna(), bins=30, kde=True)
plt.title('Fare Distribution')
plt.xlabel('Fare')
plt.ylabel('Frequency')
print("Fare distribution histogram plotted.")

plt.tight_layout()
plt.show()

# Plotting box plots for Age 
plt.figure(figsize=(12, 5))
plt.subplot(1, 2, 1)
sns.boxplot(x=df['Age'])
plt.title('Box Plot of Age')
plt.xlabel('Age')
print("Box plot for Age plotted.")

# Plotting box plots for Fare
plt.subplot(1, 2, 2)
sns.boxplot(x=df['Fare'])
plt.title('Box Plot of Fare')
plt.xlabel('Fare')
print("Box plot for Fare plotted.")

plt.tight_layout()
plt.show()

# Plotting survival rates based on Pclass and Sex
plt.figure(figsize=(12, 6))
sns.barplot(x='Pclass', y='Survived', hue='Sex', data=df, errorbar=None)
plt.title('Survival Rates by Pclass and Sex')
plt.xlabel('Passenger Class')
plt.ylabel('Survival Rate')
plt.legend(title='Sex')
plt.show()
print("Survival rates by Pclass and Sex plotted.")